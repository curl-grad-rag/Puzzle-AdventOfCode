{
 "cells": [
  {
   "cell_type": "code",
   "execution_count": 17,
   "metadata": {},
   "outputs": [],
   "source": [
    "import re\n",
    "import numpy as np\n",
    "from urllib.request import urlopen\n",
    "import json"
   ]
  },
  {
   "cell_type": "code",
   "execution_count": 18,
   "metadata": {},
   "outputs": [
    {
     "name": "stdout",
     "output_type": "stream",
     "text": [
      "1016964\n",
      "1216 295 509 182588480\n",
      "1216 509 295 182588480\n",
      "295 1216 509 182588480\n",
      "295 509 1216 182588480\n",
      "509 1216 295 182588480\n",
      "509 295 1216 182588480\n"
     ]
    }
   ],
   "source": [
    "input_day1 = set([])\n",
    "with open('day1.txt') as f:\n",
    "    for line in f:\n",
    "        input_day1.add(int(line.strip()))\n",
    "expected_set = {2020 - i for i in input_day1}\n",
    "expected_val = tuple(input_day1.intersection(expected_set))\n",
    "day1_answer = expected_val[0] * expected_val[1]\n",
    "print(day1_answer)\n",
    "\n",
    "for i in input_day1:\n",
    "    for j in input_day1 - {i}:\n",
    "        for k in input_day1 - {i, j}:\n",
    "            if (i + j + k) == 2020:\n",
    "                print(i, j, k, i*j*k)\n",
    "                break"
   ]
  },
  {
   "cell_type": "code",
   "execution_count": 19,
   "metadata": {},
   "outputs": [
    {
     "name": "stdout",
     "output_type": "stream",
     "text": [
      "445\n",
      "491\n"
     ]
    }
   ],
   "source": [
    "input_day2 = []\n",
    "with open('day2.txt') as f:\n",
    "    for line in f:\n",
    "        split_contents = re.split(':*\\s+', line.strip())\n",
    "        input_day2.append(tuple(split_contents))\n",
    "\n",
    "def _validateRule(expectedCount, char, passWd):\n",
    "    expectedCount = re.split(r'-', expectedCount)\n",
    "    minCount = int(expectedCount[0])\n",
    "    maxCount = int(expectedCount[-1])\n",
    "    return minCount <= passWd.count(char) <= maxCount\n",
    "\n",
    "\n",
    "def obtain_validPasswords(passwordsSet):\n",
    "    return [pwd_with_rule for pwd_with_rule in passwordsSet if _validateRule(*pwd_with_rule)]\n",
    "\n",
    "\n",
    "validPasswords = obtain_validPasswords(input_day2)\n",
    "print(len(validPasswords))\n",
    "\n",
    "\n",
    "def _validateRule(possiblePositions, char, passWd):\n",
    "    possiblePositions = re.split(r'-', possiblePositions)\n",
    "    pos1 = int(possiblePositions[0]) - 1\n",
    "    pos2 = int(possiblePositions[-1]) - 1\n",
    "    if pos1 == pos2:\n",
    "        print(f\"Unique scenario:{possiblePositions}, {char}, {passWd}\")\n",
    "    return (passWd[pos1] == char) ^ (passWd[pos2] == char)\n",
    "\n",
    "validPasswords2 = obtain_validPasswords(input_day2)\n",
    "print(len(validPasswords2))"
   ]
  },
  {
   "cell_type": "code",
   "execution_count": 20,
   "metadata": {},
   "outputs": [
    {
     "name": "stdout",
     "output_type": "stream",
     "text": [
      "214\n",
      "8336352024\n"
     ]
    }
   ],
   "source": [
    "input_day3 = []\n",
    "with open('day3.txt') as f:\n",
    "    for line in f:\n",
    "        input_day3.append(tuple(line.strip()))\n",
    "        \n",
    "def check_tree_crossings(right, down, txtmap):\n",
    "    encountered_trees = [row for i, row in enumerate(txtmap[::down])\n",
    "                        if row[(i * right) % len(row)] == '#'\n",
    "                    ]\n",
    "    return encountered_trees\n",
    "\n",
    "right_down_slopes = [(1, 1), (3, 1), (5, 1), (7, 1), (1, 2)]\n",
    "\n",
    "various_tree_crossings = [check_tree_crossings(r, d, input_day3) for r, d in right_down_slopes]\n",
    "\n",
    "print(len(various_tree_crossings[1]))\n",
    "\n",
    "num_tree_crossings = [len(x) for x in various_tree_crossings]\n",
    "\n",
    "num_tree_crossings\n",
    "print(np.prod(num_tree_crossings, dtype=np.int64))"
   ]
  },
  {
   "cell_type": "code",
   "execution_count": 21,
   "metadata": {},
   "outputs": [
    {
     "name": "stdout",
     "output_type": "stream",
     "text": [
      "250\n",
      "158\n"
     ]
    }
   ],
   "source": [
    "input_day4 = [dict()]\n",
    "def _convert_string2dict(string):\n",
    "    return {matches[0]: matches[1] for matches in re.findall(r\"(\\S+)\\s*:\\s*(\\S+)\", string)}\n",
    "\n",
    "\n",
    "with open('day4.txt') as f:\n",
    "    for line in f:\n",
    "        line = line.strip()\n",
    "        if re.match(r'^\\s*$', line):\n",
    "            input_day4.append(dict())\n",
    "        else:\n",
    "            input_day4[-1].update(_convert_string2dict(line))\n",
    "\n",
    "mandatory_fields = {\n",
    "    'byr' : '(Birth Year)',\n",
    "    'iyr' : '(Issue Year)',\n",
    "    'eyr' : '(Expiration Year)',\n",
    "    'hgt' : '(Height)',\n",
    "    'hcl' : '(Hair Color)',\n",
    "    'ecl' : '(Eye Color)',\n",
    "    'pid' : '(Passport ID)',\n",
    "    'cid' : '(Country ID)',\n",
    "}\n",
    "\n",
    "reqd_fields = set(mandatory_fields.keys()) - {'cid'}\n",
    "valid_passports = [passPt for passPt in input_day4 \n",
    "                   if reqd_fields.issubset(set(passPt.keys()))\n",
    "                  ]\n",
    "print(len(valid_passports))\n",
    "\n",
    "\n",
    "def _check_year(year, min_yr, max_yr):\n",
    "    try:\n",
    "        return min_yr <= int(year) <= max_yr\n",
    "    except:\n",
    "        return False\n",
    "\n",
    "def _check_height(height):\n",
    "    m = re.search(r\"([0-9]+)(cm|in)\", height, flags=re.IGNORECASE)\n",
    "    if m:\n",
    "        if m.group(2) == 'in':\n",
    "            return 59 <= int(m.group(1)) <= 76\n",
    "        else:\n",
    "            return 150 <= int(m.group(1)) <= 193\n",
    "    else:\n",
    "        return False\n",
    "    \n",
    "def _check_haircolor(hairClr):\n",
    "    return bool(re.match(r'#[0-9a-f]{6}', hairClr))\n",
    "\n",
    "def _check_eyecolor(eyeClr, allClrs=('amb', 'blu', 'brn', 'gry', 'grn', 'hzl', 'oth')):\n",
    "    return eyeClr in allClrs\n",
    "\n",
    "def _check_passportID(passPtId):\n",
    "    try:\n",
    "        int(passPtId) > 0\n",
    "    except:\n",
    "        return False\n",
    "    # return len(passPtId.zfill(9)) == 9 ## They don't mean patch zeros\n",
    "    return len(passPtId) == 9\n",
    "    \n",
    "valid_passports2 = [passPt for passPt in valid_passports if \n",
    "                    (_check_year(passPt['byr'], 1920, 2002) and\n",
    "                    _check_year(passPt['iyr'], 2010, 2020) and\n",
    "                    _check_year(passPt['eyr'], 2020, 2030) and\n",
    "                    _check_height(passPt['hgt']) and\n",
    "                    _check_haircolor(passPt['hcl']) and\n",
    "                    _check_eyecolor(passPt['ecl']) and\n",
    "                    _check_passportID(passPt['pid']))\n",
    "                   ]\n",
    "\n",
    "print(len(valid_passports2))"
   ]
  },
  {
   "cell_type": "code",
   "execution_count": 22,
   "metadata": {},
   "outputs": [
    {
     "name": "stdout",
     "output_type": "stream",
     "text": [
      "928\n",
      "My probable id: 610\n"
     ]
    }
   ],
   "source": [
    "def get_row_decimal_repr(chars, upchar='B', dnchar='F'):\n",
    "    return int(re.sub(upchar, '1', re.sub(dnchar, '0', chars)), 2)\n",
    "\n",
    "def get_col_decimal_repr(chars):\n",
    "    return get_row_decimal_repr(chars, upchar='R', dnchar='L')\n",
    "\n",
    "def get_unique_seat_id(chars):\n",
    "    return get_row_decimal_repr(chars[:7]) * 8 + get_col_decimal_repr(chars[7:])\n",
    "\n",
    "\n",
    "input_day5 = []\n",
    "with open('day5.txt') as f:\n",
    "    for line in f:\n",
    "        input_day5.append(line.strip())\n",
    "\n",
    "unique_seat_ids = [get_unique_seat_id(code) for code in input_day5]\n",
    "print(max(unique_seat_ids))\n",
    "\n",
    "\n",
    "all_possible_unique_ids = [r * 8 + l for r in range(2**7) for l in range(2**3)]\n",
    "missing_unique_ids = set(all_possible_unique_ids) - set(unique_seat_ids)\n",
    "for my_id in missing_unique_ids:\n",
    "    if (my_id + 1 in unique_seat_ids) and (my_id - 1 in unique_seat_ids):\n",
    "        print(f\"My probable id: {my_id}\")"
   ]
  },
  {
   "cell_type": "code",
   "execution_count": 23,
   "metadata": {},
   "outputs": [
    {
     "name": "stdout",
     "output_type": "stream",
     "text": [
      "6382\n",
      "3197\n"
     ]
    }
   ],
   "source": [
    "input_day6 = [set()]\n",
    "\n",
    "with open('day6.txt') as f:\n",
    "    for line in f:\n",
    "        line = line.strip()\n",
    "        if re.match(r'^\\s*$', line):\n",
    "            input_day6.append(set())\n",
    "        else:\n",
    "            input_day6[-1].update(set(line))\n",
    "            \n",
    "counts_of_declarations = [len(chars) for chars in input_day6]\n",
    "print(sum(counts_of_declarations))\n",
    "\n",
    "input_day6_new = [set()]\n",
    "grpMembers = 0\n",
    "with open('day6.txt') as f:\n",
    "    for line in f:\n",
    "        line = line.strip()\n",
    "        if re.match(r'^\\s*$', line):\n",
    "            input_day6_new.append(set())\n",
    "            grpMembers = 0\n",
    "        else:\n",
    "            grpMembers += 1\n",
    "            if grpMembers == 1:\n",
    "                input_day6_new[-1].update(set(line))\n",
    "            else:\n",
    "                input_day6_new[-1] = input_day6_new[-1].intersection(set(line))\n",
    "                            \n",
    "counts_of_declarations_new = [len(chars) for chars in input_day6_new]\n",
    "print(sum(counts_of_declarations_new))"
   ]
  },
  {
   "cell_type": "code",
   "execution_count": 24,
   "metadata": {},
   "outputs": [
    {
     "name": "stdout",
     "output_type": "stream",
     "text": [
      "211\n",
      "12414\n"
     ]
    }
   ],
   "source": [
    "from collections import defaultdict\n",
    "\n",
    "def process_bags(string):\n",
    "    bagcolorRe = r\"(\\S+)\\s+(\\S+)\\s+bag[s]*\"\n",
    "    bagnumcolorRe = r\"((\\d+)\\s+)*(\\S+)\\s+(\\S+)\\s+bag[s]*\"\n",
    "bagNumColorRe = r\"((\\d+)\\s+)*(\\S+\\s+\\S+)\\s+bag[s]*\"    \n",
    "\n",
    "\n",
    "def convert_to_contents_dict(fileContents, bagNumColorRe=r\"((\\d+)\\s+)*(\\S+\\s+\\S+)\\s+bag[s]*\"):\n",
    "    converted_dict = defaultdict(dict)\n",
    "    for line in fileContents:\n",
    "        line = line.strip()\n",
    "        lineContents = re.split(r\"contain[s]*\", line)\n",
    "        m = re.match(bagNumColorRe, lineContents[0])\n",
    "        primKey = m.group(3)\n",
    "        for contents in re.split(r\"\\s*,\\s*\", lineContents[-1]):\n",
    "            m = re.match(bagNumColorRe, contents.strip())\n",
    "            #print(contents)\n",
    "            if m.group(2):\n",
    "                converted_dict[primKey][m.group(3)] = int(m.group(2))\n",
    "            else:\n",
    "                converted_dict[primKey] = {}\n",
    "    return converted_dict\n",
    "\n",
    "#input_day7 = defaultdict(dict)\n",
    "with open('day7.txt') as f:\n",
    "    input_day7 = convert_to_contents_dict(f)  \n",
    "# print(input_day7.keys())\n",
    "# print(json.dumps(input_day7, indent=4))\n",
    "# shown_example = [\n",
    "#                  'light red bags contain 1 bright white bag, 2 muted yellow bags.',\n",
    "#                  'dark orange bags contain 3 bright white bags, 4 muted yellow bags.',\n",
    "#                  'bright white bags contain 1 shiny gold bag.',\n",
    "#                  'muted yellow bags contain 2 shiny gold bags, 9 faded blue bags.',\n",
    "#                  'shiny gold bags contain 1 dark olive bag, 2 vibrant plum bags.',\n",
    "#                  'dark olive bags contain 3 faded blue bags, 4 dotted black bags.',\n",
    "#                  'vibrant plum bags contain 5 faded blue bags, 6 dotted black bags.',\n",
    "#                  'faded blue bags contain no other bags.',\n",
    "#                  'dotted black bags contain no other bags.'\n",
    "#                 ]\n",
    "# shown_example_dict = convert_to_contents_dict(shown_example)\n",
    "# print(json.dumps(shown_example_dict, indent=4))\n",
    "\n",
    "\n",
    "def find_parent_colors(bagsDict, color):\n",
    "    resultSet = set()\n",
    "    for key, values in bagsDict.items():\n",
    "        if color in values:\n",
    "            resultSet.add(key)\n",
    "    grandparSet = set()\n",
    "    for primParent in resultSet:\n",
    "        grandparSet.update(find_parent_colors(bagsDict, primParent))\n",
    "    resultSet.update(grandparSet)\n",
    "    return resultSet\n",
    "\n",
    "# test = find_parent_colors(shown_example_dict, 'shiny gold')\n",
    "# print(test)\n",
    "\n",
    "possible_bags_with_shinyGold = find_parent_colors(input_day7, 'shiny gold')\n",
    "print(len(possible_bags_with_shinyGold))\n",
    "\n",
    "def obtain_total_bag_contents(bagsDict, color):\n",
    "    total = 0\n",
    "    for subColor, count in bagsDict[color].items():\n",
    "        total += count + count * obtain_total_bag_contents(bagsDict, subColor)\n",
    "    return total\n",
    "\n",
    "# shown_example = ['shiny gold bags contain 2 dark red bags.',\n",
    "#                  'dark red bags contain 2 dark orange bags.',\n",
    "#                  'dark orange bags contain 2 dark yellow bags.',\n",
    "#                  'dark yellow bags contain 2 dark green bags.',\n",
    "#                  'dark green bags contain 2 dark blue bags.',\n",
    "#                  'dark blue bags contain 2 dark violet bags.',\n",
    "#                  'dark violet bags contain no other bags.']\n",
    "# shown_example_dict = convert_to_contents_dict(shown_example)\n",
    "# obtain_total_bag_contents(shown_example_dict, 'shiny gold')\n",
    "print(obtain_total_bag_contents(input_day7, 'shiny gold'))"
   ]
  }
 ],
 "metadata": {
  "kernelspec": {
   "display_name": "Python 3",
   "language": "python",
   "name": "python3"
  },
  "language_info": {
   "codemirror_mode": {
    "name": "ipython",
    "version": 3
   },
   "file_extension": ".py",
   "mimetype": "text/x-python",
   "name": "python",
   "nbconvert_exporter": "python",
   "pygments_lexer": "ipython3",
   "version": "3.7.4"
  }
 },
 "nbformat": 4,
 "nbformat_minor": 4
}
